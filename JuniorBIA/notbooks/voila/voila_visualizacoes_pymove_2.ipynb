{
 "cells": [
  {
   "cell_type": "code",
   "execution_count": 17,
   "id": "fc2bc0f8",
   "metadata": {},
   "outputs": [],
   "source": [
    "import ipywidgets as widgets\n",
    "import pandas as pd\n",
    "import numpy as np\n",
    "\n",
    "import pymove as pm\n",
    "from pymove.visualization import folium as f, matplotlib as mpl\n",
    "from pymove.utils import visual\n",
    "\n",
    "import pandas as pd\n",
    "import pymove as pm\n",
    "from pymove import folium, MoveDataFrame\n",
    "from pymove.query import query\n",
    "\n",
    "import seaborn as sns\n",
    "import matplotlib.pyplot as plt"
   ]
  },
  {
   "cell_type": "code",
   "execution_count": 18,
   "id": "2ed6150a",
   "metadata": {},
   "outputs": [],
   "source": [
    "move_df = pd.read_csv(\"atlantic.csv\", encoding= 'unicode_escape')"
   ]
  },
  {
   "cell_type": "code",
   "execution_count": 19,
   "id": "c6b54334",
   "metadata": {},
   "outputs": [],
   "source": [
    "move_df = pm.conversions.lat_and_lon_decimal_degrees_to_decimal(\n",
    "    move_df, latitude='Latitude', longitude='Longitude'\n",
    ")\n",
    "\n",
    "def convert_to_datetime(row):\n",
    "        this_date = '{}-{}-{}'.format(str(row['Date'])[0:4], str(row['Date'])[4:6], str(row['Date'])[6:])\n",
    "        this_time = '{:02d}:{:02d}:00'.format(int(row['Time']/100), int(str(row['Time'])[-2:]))\n",
    "        return '{} {}'.format(this_date, this_time)\n",
    "move_df['Datetime'] = move_df.apply(convert_to_datetime, axis=1)\n",
    "\n",
    "#move_df[['ID', 'Name', 'Latitude', 'Longitude', 'Datetime']].head()"
   ]
  },
  {
   "cell_type": "code",
   "execution_count": 20,
   "id": "c576af9c",
   "metadata": {},
   "outputs": [],
   "source": [
    "#Converting the pandas dataframe to pymove's MoveDataFrame\n",
    "move_pm = MoveDataFrame(\n",
    "    data=move_df, latitude='Latitude', longitude='Longitude',datetime='Datetime', traj_id='Name'\n",
    ")\n",
    "#print(type(move_pm))\n",
    "#move_pm.head()"
   ]
  },
  {
   "cell_type": "code",
   "execution_count": 21,
   "id": "08e214c5",
   "metadata": {},
   "outputs": [],
   "source": [
    "#move_df"
   ]
  },
  {
   "cell_type": "code",
   "execution_count": 22,
   "id": "3e7a4a72",
   "metadata": {},
   "outputs": [],
   "source": [
    "ALL = 'ALL'\n",
    "def unique_sorted_values_plus_ALL(array):\n",
    "    unique = array.unique().tolist()\n",
    "    unique.sort()\n",
    "    unique.insert(0, ALL)\n",
    "    return unique"
   ]
  },
  {
   "cell_type": "code",
   "execution_count": 23,
   "id": "32f70353",
   "metadata": {},
   "outputs": [],
   "source": [
    "def colour_ge_value(value, comparison):\n",
    "    if value > comparison:\n",
    "        return 'color: red'\n",
    "    else:\n",
    "        return 'color: black'"
   ]
  },
  {
   "cell_type": "code",
   "execution_count": 36,
   "id": "d005b6ed",
   "metadata": {},
   "outputs": [],
   "source": [
    "output = widgets.Output()\n",
    "plot_output = widgets.Output()\n",
    "\n",
    "dropdown_year = widgets.Dropdown(options = unique_sorted_values_plus_ALL(move_df.ID), description = 'ID:')\n",
    "dropdown_purpose = widgets.Dropdown(options = unique_sorted_values_plus_ALL(move_df.Time), description = 'Time:')\n",
    "bounded_num = widgets.BoundedFloatText(min=0, max=100000, value=5, step=1, description = 'Number:')\n",
    "\n",
    "\n",
    "def common_filtering(Id, time, num):\n",
    "    output.clear_output()\n",
    "    plot_output.clear_output()\n",
    "    \n",
    "    if (Id == ALL) & (time == ALL):\n",
    "        common_filter = move_df\n",
    "    elif (Id == ALL):\n",
    "        common_filter = move_df[move_df.Time == time]\n",
    "    elif (time == ALL):\n",
    "        common_filter = move_df[move_df.ID == Id]\n",
    "    else:\n",
    "        common_filter = move_df[(move_df.ID == Id) & (move_df.Time == time)]\n",
    "    \n",
    "    with output:\n",
    "        display(common_filter.style.applymap(lambda x: colour_ge_value(x, num), subset=['Latitude', 'Time']))\n",
    "    with plot_output:\n",
    "        sns.kdeplot(common_filter['Latitude'], shade=True)\n",
    "        plt.show()\n",
    "        \n",
    "\n",
    "def dropdown_year_eventhandler(change):\n",
    "    common_filtering(change.new, dropdown_purpose.value,\n",
    "                     bounded_num.value)\n",
    "def dropdown_purpose_eventhandler(change):\n",
    "    common_filtering(dropdown_year.value, change.new, \n",
    "                     bounded_num.value)\n",
    "def bounded_num_eventhandler(change):\n",
    "    common_filtering(dropdown_year.value, dropdown_purpose.value, change.new)\n",
    "\n",
    "    \n",
    "\n",
    "dropdown_year.observe(dropdown_year_eventhandler, names='value')\n",
    "dropdown_purpose.observe(dropdown_purpose_eventhandler, names='value')\n",
    "bounded_num.observe(bounded_num_eventhandler, names='value')\n",
    "\n",
    "#display(dropdown_year)\n",
    "#display(dropdown_purpose)\n",
    "#display(bounded_num)\n",
    "#display(output)\n",
    "#display(plot_output)"
   ]
  },
  {
   "cell_type": "code",
   "execution_count": 37,
   "id": "493c2242",
   "metadata": {},
   "outputs": [
    {
     "data": {
      "application/vnd.jupyter.widget-view+json": {
       "model_id": "d091662615bd49d8a0bdb80dd5825a52",
       "version_major": 2,
       "version_minor": 0
      },
      "text/plain": [
       "HBox(children=(Dropdown(description='ID:', options=('ALL', 'AL011851', 'AL011852', 'AL011853', 'AL011854', 'AL…"
      ]
     },
     "metadata": {},
     "output_type": "display_data"
    },
    {
     "data": {
      "application/vnd.jupyter.widget-view+json": {
       "model_id": "079acc2a0e0d48c2bb96766de017c9e8",
       "version_major": 2,
       "version_minor": 0
      },
      "text/plain": [
       "Tab(children=(Output(), Output()), _titles={'0': 'Dataset Exploration', '1': 'KDE Plot'})"
      ]
     },
     "metadata": {},
     "output_type": "display_data"
    }
   ],
   "source": [
    "input_widgets = widgets.HBox(\n",
    "[dropdown_year, dropdown_purpose, bounded_num])\n",
    "display(input_widgets)\n",
    "\n",
    "tab = widgets.Tab([output, plot_output])\n",
    "tab.set_title(0, 'Dataset Exploration')\n",
    "tab.set_title(1, 'KDE Plot')\n",
    "display(tab)"
   ]
  },
  {
   "cell_type": "code",
   "execution_count": null,
   "id": "c8fa4e11",
   "metadata": {},
   "outputs": [],
   "source": []
  }
 ],
 "metadata": {
  "kernelspec": {
   "display_name": "Python 3 (ipykernel)",
   "language": "python",
   "name": "python3"
  },
  "language_info": {
   "codemirror_mode": {
    "name": "ipython",
    "version": 3
   },
   "file_extension": ".py",
   "mimetype": "text/x-python",
   "name": "python",
   "nbconvert_exporter": "python",
   "pygments_lexer": "ipython3",
   "version": "3.8.10"
  }
 },
 "nbformat": 4,
 "nbformat_minor": 5
}
